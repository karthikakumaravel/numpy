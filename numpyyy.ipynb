{
  "nbformat": 4,
  "nbformat_minor": 0,
  "metadata": {
    "colab": {
      "provenance": []
    },
    "kernelspec": {
      "name": "python3",
      "display_name": "Python 3"
    },
    "language_info": {
      "name": "python"
    }
  },
  "cells": [
    {
      "cell_type": "code",
      "execution_count": null,
      "metadata": {
        "colab": {
          "base_uri": "https://localhost:8080/"
        },
        "id": "uMcsMOHFZuxu",
        "outputId": "b741f93a-f3ed-445d-e334-68ab5ac0e300"
      },
      "outputs": [
        {
          "output_type": "stream",
          "name": "stdout",
          "text": [
            "kaj\n"
          ]
        }
      ],
      "source": [
        "print(\"kart\")"
      ]
    },
    {
      "cell_type": "code",
      "source": [
        "l1=[10,20,30,40]\n",
        "l1"
      ],
      "metadata": {
        "colab": {
          "base_uri": "https://localhost:8080/"
        },
        "id": "4oXypoeYa8MJ",
        "outputId": "4b694d8c-46bf-4d0d-8135-fa35def06d55"
      },
      "execution_count": null,
      "outputs": [
        {
          "output_type": "execute_result",
          "data": {
            "text/plain": [
              "[10, 20, 30, 40]"
            ]
          },
          "metadata": {},
          "execution_count": 7
        }
      ]
    },
    {
      "cell_type": "code",
      "source": [
        "l1.insert(2,25)\n",
        "l1"
      ],
      "metadata": {
        "colab": {
          "base_uri": "https://localhost:8080/"
        },
        "id": "dFy2B-i8bcvS",
        "outputId": "91c4b3c7-3b22-4945-df0d-936effb225c4"
      },
      "execution_count": null,
      "outputs": [
        {
          "output_type": "execute_result",
          "data": {
            "text/plain": [
              "[10, 20, 25, 25, 30, 40]"
            ]
          },
          "metadata": {},
          "execution_count": 10
        }
      ]
    },
    {
      "cell_type": "code",
      "source": [
        "l1=[10,20,30,40,50,60]\n",
        "l1.index(50,3)"
      ],
      "metadata": {
        "colab": {
          "base_uri": "https://localhost:8080/"
        },
        "id": "JV6-F1GWcOtW",
        "outputId": "89c16bef-308b-44c1-ac7e-6b370c68cec0"
      },
      "execution_count": null,
      "outputs": [
        {
          "output_type": "execute_result",
          "data": {
            "text/plain": [
              "4"
            ]
          },
          "metadata": {},
          "execution_count": 17
        }
      ]
    },
    {
      "cell_type": "code",
      "source": [
        "l2=[1,2,3]\n",
        "l3=[4,5,6]\n",
        "l3.extend(l2)\n",
        "l2.extend(l3)\n",
        "print(l3)\n",
        "print(l2)"
      ],
      "metadata": {
        "colab": {
          "base_uri": "https://localhost:8080/"
        },
        "id": "-RWGf43TcsKt",
        "outputId": "0b0644a4-64cb-4e63-9b86-395e64af3f4c"
      },
      "execution_count": null,
      "outputs": [
        {
          "output_type": "stream",
          "name": "stdout",
          "text": [
            "[4, 5, 6, 1, 2, 3]\n",
            "[1, 2, 3, 4, 5, 6, 1, 2, 3]\n"
          ]
        }
      ]
    },
    {
      "cell_type": "code",
      "source": [
        "import numpy as np"
      ],
      "metadata": {
        "id": "gjFFf771dc0h"
      },
      "execution_count": null,
      "outputs": []
    },
    {
      "cell_type": "code",
      "source": [
        "a=np.array([1,2,3])\n",
        "print(a)\n",
        "print(np.size(a))\n"
      ],
      "metadata": {
        "colab": {
          "base_uri": "https://localhost:8080/"
        },
        "id": "58rqXEg8dXcu",
        "outputId": "f0d55a61-e0c9-4fdb-bcb5-6ddfbf7f6646"
      },
      "execution_count": null,
      "outputs": [
        {
          "output_type": "stream",
          "name": "stdout",
          "text": [
            "[1 2 3]\n",
            "3\n"
          ]
        }
      ]
    },
    {
      "cell_type": "code",
      "source": [
        "arr = np.array([[1, 2, 3, 4], [5, 6, 7, 8]])\n",
        "print(np.size(arr))"
      ],
      "metadata": {
        "colab": {
          "base_uri": "https://localhost:8080/"
        },
        "id": "ReASeA2geAkm",
        "outputId": "5b2e3ad3-5e37-451f-f9ce-a62870f49e2f"
      },
      "execution_count": null,
      "outputs": [
        {
          "output_type": "stream",
          "name": "stdout",
          "text": [
            "8\n"
          ]
        }
      ]
    },
    {
      "cell_type": "code",
      "source": [
        "a=np.array([1,2,3],dtype=np.float64)\n",
        "print(a)"
      ],
      "metadata": {
        "colab": {
          "base_uri": "https://localhost:8080/"
        },
        "id": "6y05RzOVeFEw",
        "outputId": "a6a79e2e-a99d-494a-9eb8-7b8dfb360e0e"
      },
      "execution_count": null,
      "outputs": [
        {
          "output_type": "stream",
          "name": "stdout",
          "text": [
            "[1. 2. 3.]\n"
          ]
        }
      ]
    },
    {
      "cell_type": "code",
      "source": [
        "a= np.ones(( 3, 4))\n",
        "print(a)"
      ],
      "metadata": {
        "colab": {
          "base_uri": "https://localhost:8080/"
        },
        "id": "fC8gDsL5fGo4",
        "outputId": "1764d637-f122-404d-f0ff-008a290a1d54"
      },
      "execution_count": null,
      "outputs": [
        {
          "output_type": "stream",
          "name": "stdout",
          "text": [
            "[[1. 1. 1. 1.]\n",
            " [1. 1. 1. 1.]\n",
            " [1. 1. 1. 1.]]\n"
          ]
        }
      ]
    },
    {
      "cell_type": "code",
      "source": [
        "a= np.ones(( 4,3, 2))\n",
        "print(a)"
      ],
      "metadata": {
        "colab": {
          "base_uri": "https://localhost:8080/"
        },
        "id": "2QV-UMe2gLxd",
        "outputId": "9cd694ca-57e4-41f0-ba5d-906497124ad1"
      },
      "execution_count": null,
      "outputs": [
        {
          "output_type": "stream",
          "name": "stdout",
          "text": [
            "[[[1. 1.]\n",
            "  [1. 1.]\n",
            "  [1. 1.]]\n",
            "\n",
            " [[1. 1.]\n",
            "  [1. 1.]\n",
            "  [1. 1.]]\n",
            "\n",
            " [[1. 1.]\n",
            "  [1. 1.]\n",
            "  [1. 1.]]\n",
            "\n",
            " [[1. 1.]\n",
            "  [1. 1.]\n",
            "  [1. 1.]]]\n"
          ]
        }
      ]
    },
    {
      "cell_type": "code",
      "source": [
        "c=np.full((2,2),7)\n",
        "print(c)"
      ],
      "metadata": {
        "colab": {
          "base_uri": "https://localhost:8080/"
        },
        "id": "6T2NjMM7gT0d",
        "outputId": "fd963684-22eb-4ac3-86f4-ea9302683694"
      },
      "execution_count": null,
      "outputs": [
        {
          "output_type": "stream",
          "name": "stdout",
          "text": [
            "[[7 7]\n",
            " [7 7]]\n"
          ]
        }
      ]
    },
    {
      "cell_type": "code",
      "source": [
        "d=np.eye(2)\n",
        "print(d)"
      ],
      "metadata": {
        "colab": {
          "base_uri": "https://localhost:8080/"
        },
        "id": "jY0vI7z8ggZm",
        "outputId": "a3e71232-af5e-4464-aece-d6a461aceb84"
      },
      "execution_count": null,
      "outputs": [
        {
          "output_type": "stream",
          "name": "stdout",
          "text": [
            "[[1. 0.]\n",
            " [0. 1.]]\n"
          ]
        }
      ]
    },
    {
      "cell_type": "code",
      "source": [
        "e=np.random.random((2,3))\n",
        "print(e)"
      ],
      "metadata": {
        "colab": {
          "base_uri": "https://localhost:8080/"
        },
        "id": "RSMxLnGDgm4z",
        "outputId": "b4c876c0-f37e-41ce-e1b5-43f962dee328"
      },
      "execution_count": null,
      "outputs": [
        {
          "output_type": "stream",
          "name": "stdout",
          "text": [
            "[[0.9807491  0.55673927 0.0490337 ]\n",
            " [0.89332907 0.97255372 0.22004494]]\n"
          ]
        }
      ]
    },
    {
      "cell_type": "code",
      "source": [
        "f=np.arange(10,50,5)\n",
        "print(f)"
      ],
      "metadata": {
        "colab": {
          "base_uri": "https://localhost:8080/"
        },
        "id": "NOUIxhL9g6AI",
        "outputId": "ed5da0ea-46b4-4466-caa8-d8d01231eedc"
      },
      "execution_count": null,
      "outputs": [
        {
          "output_type": "stream",
          "name": "stdout",
          "text": [
            "[10 15 20 25 30 35 40 45]\n"
          ]
        }
      ]
    },
    {
      "cell_type": "code",
      "source": [
        "import pylab as p\n",
        "g = np.linspace(0, 2, 10, endpoint = False)\n",
        "g1 = np.ones(10)\n",
        "p.plot(g, g1, '*')\n"
      ],
      "metadata": {
        "colab": {
          "base_uri": "https://localhost:8080/",
          "height": 447
        },
        "id": "kwzYVxxbhSMS",
        "outputId": "d330d531-e369-4a23-e5f0-dd4ceb901614"
      },
      "execution_count": null,
      "outputs": [
        {
          "output_type": "execute_result",
          "data": {
            "text/plain": [
              "[<matplotlib.lines.Line2D at 0x7d4927d127a0>]"
            ]
          },
          "metadata": {},
          "execution_count": 51
        },
        {
          "output_type": "display_data",
          "data": {
            "text/plain": [
              "<Figure size 640x480 with 1 Axes>"
            ],
            "image/png": "[encoded data removed]"
          },
          "metadata": {}
        }
      ]
    },
    {
      "cell_type": "code",
      "source": [
        "a=np.array([[1,2],[3,4],[5,6]])\n",
        "print(a[0][1])\n",
        "print(a[1:3])\n",
        "print(a[0:2,0])"
      ],
      "metadata": {
        "colab": {
          "base_uri": "https://localhost:8080/"
        },
        "id": "RxuZpCNAiWwv",
        "outputId": "66080e92-9ce2-43a2-b288-7ade21ac2a72"
      },
      "execution_count": null,
      "outputs": [
        {
          "output_type": "stream",
          "name": "stdout",
          "text": [
            "2\n",
            "[[3 4]\n",
            " [5 6]]\n",
            "[1 3]\n"
          ]
        }
      ]
    },
    {
      "cell_type": "code",
      "source": [
        "a=np.array([[1,2,3,4],[5,6,7,8],[9,10,11,12]])\n",
        "b=a[:2,1:3]\n",
        "print(b)\n",
        "c=a[1:3,2:4]\n",
        "print(c)"
      ],
      "metadata": {
        "colab": {
          "base_uri": "https://localhost:8080/"
        },
        "id": "C2yXsdCJjGnk",
        "outputId": "0348479c-491d-4f19-9164-6d65d6a96eb9"
      },
      "execution_count": null,
      "outputs": [
        {
          "output_type": "stream",
          "name": "stdout",
          "text": [
            "[[2 3]\n",
            " [6 7]]\n",
            "[[ 7  8]\n",
            " [11 12]]\n"
          ]
        }
      ]
    },
    {
      "cell_type": "code",
      "source": [
        "arr = np.array([1, 2, 3, 4])\n",
        "\n",
        "print(arr[2] + arr[3])"
      ],
      "metadata": {
        "colab": {
          "base_uri": "https://localhost:8080/"
        },
        "id": "BNftmHYrmQ2_",
        "outputId": "5aa8e252-cc76-43cd-b0cb-ffc143afcb70"
      },
      "execution_count": null,
      "outputs": [
        {
          "output_type": "stream",
          "name": "stdout",
          "text": [
            "7\n"
          ]
        }
      ]
    },
    {
      "cell_type": "code",
      "source": [
        "a=np.array([[1,2,3,4],[5,6,7,8],[9,10,11,12]])\n",
        "print(a)\n"
      ],
      "metadata": {
        "colab": {
          "base_uri": "https://localhost:8080/"
        },
        "id": "STa4M7lLlY8U",
        "outputId": "fde3a3b1-8108-448a-d13e-c0e764e5c996"
      },
      "execution_count": null,
      "outputs": [
        {
          "output_type": "stream",
          "name": "stdout",
          "text": [
            "[[ 1  2  3  4]\n",
            " [ 5  6  7  8]\n",
            " [ 9 10 11 12]]\n"
          ]
        }
      ]
    },
    {
      "cell_type": "code",
      "source": [
        "row_r1=a[1,:]\n",
        "row_r2=a[1:2,:]# within range  so nested array, rows and columns will there as range\n",
        "row_r3=a[[1],:]\n",
        "print(row_r1,row_r1.shape)\n",
        "print(row_r2,row_r2.shape)\n",
        "print(row_r3,row_r3.shape)"
      ],
      "metadata": {
        "colab": {
          "base_uri": "https://localhost:8080/"
        },
        "id": "uoixTzwll5Wc",
        "outputId": "e9abb5e1-87da-42eb-f18b-6966e4ffecc1"
      },
      "execution_count": null,
      "outputs": [
        {
          "output_type": "stream",
          "name": "stdout",
          "text": [
            "[5 6 7 8] (4,)\n",
            "[[5 6 7 8]] (1, 4)\n",
            "[[5 6 7 8]] (1, 4)\n"
          ]
        }
      ]
    },
    {
      "cell_type": "code",
      "source": [
        "#columns\n",
        "col_r1=a[:,1]\n",
        "col_r2=a[:,1:2]# within range  so nested array, rows and columns will there\n",
        "print(col_r1,col_r1.shape)\n",
        "print()\n",
        "print(col_r2,col_r2.shape)\n",
        "\n"
      ],
      "metadata": {
        "colab": {
          "base_uri": "https://localhost:8080/"
        },
        "id": "vAju08CanwPE",
        "outputId": "ca32ef78-f444-4a52-a00f-9eca59e73c3c"
      },
      "execution_count": null,
      "outputs": [
        {
          "output_type": "stream",
          "name": "stdout",
          "text": [
            "[ 2  6 10] (3,)\n",
            "\n",
            "[[ 2]\n",
            " [ 6]\n",
            " [10]] (3, 1)\n"
          ]
        }
      ]
    },
    {
      "cell_type": "code",
      "source": [
        "import numpy as np"
      ],
      "metadata": {
        "id": "kKRYVyK58PBi"
      },
      "execution_count": null,
      "outputs": []
    },
    {
      "cell_type": "code",
      "source": [
        "a=np.array([[1,2,3],[5,6,7],[9,10,11],[12,13,14]])\n",
        "print(a)\n",
        "print(a.shape)"
      ],
      "metadata": {
        "colab": {
          "base_uri": "https://localhost:8080/"
        },
        "id": "dY313n1U75nh",
        "outputId": "d2b7b936-6882-4cd4-fea5-421e6d2443c0"
      },
      "execution_count": null,
      "outputs": [
        {
          "output_type": "stream",
          "name": "stdout",
          "text": [
            "[[ 1  2  3]\n",
            " [ 5  6  7]\n",
            " [ 9 10 11]\n",
            " [12 13 14]]\n",
            "(4, 3)\n"
          ]
        }
      ]
    },
    {
      "cell_type": "code",
      "source": [
        "import numpy as np\n",
        "a=np.array([[1,2,3],[5,6,7],[9,10,11],[12,13,14]])\n",
        "b=np.array([0,2,0,1])\n",
        "print(a[np.arange(4,b)])"
      ],
      "metadata": {
        "colab": {
          "base_uri": "https://localhost:8080/",
          "height": 211
        },
        "id": "MRuvRIls8UHg",
        "outputId": "031f7250-9e0d-44bf-c71a-e72ba6ce1503"
      },
      "execution_count": null,
      "outputs": [
        {
          "output_type": "error",
          "ename": "ValueError",
          "evalue": "ignored",
          "traceback": [
            "\u001b[0;31m---------------------------------------------------------------------------\u001b[0m",
            "\u001b[0;31mValueError\u001b[0m                                Traceback (most recent call last)",
            "\u001b[0;32m<ipython-input-16-6230594ec9a3>\u001b[0m in \u001b[0;36m<cell line: 4>\u001b[0;34m()\u001b[0m\n\u001b[1;32m      2\u001b[0m \u001b[0ma\u001b[0m\u001b[0;34m=\u001b[0m\u001b[0mnp\u001b[0m\u001b[0;34m.\u001b[0m\u001b[0marray\u001b[0m\u001b[0;34m(\u001b[0m\u001b[0;34m[\u001b[0m\u001b[0;34m[\u001b[0m\u001b[0;36m1\u001b[0m\u001b[0;34m,\u001b[0m\u001b[0;36m2\u001b[0m\u001b[0;34m,\u001b[0m\u001b[0;36m3\u001b[0m\u001b[0;34m]\u001b[0m\u001b[0;34m,\u001b[0m\u001b[0;34m[\u001b[0m\u001b[0;36m5\u001b[0m\u001b[0;34m,\u001b[0m\u001b[0;36m6\u001b[0m\u001b[0;34m,\u001b[0m\u001b[0;36m7\u001b[0m\u001b[0;34m]\u001b[0m\u001b[0;34m,\u001b[0m\u001b[0;34m[\u001b[0m\u001b[0;36m9\u001b[0m\u001b[0;34m,\u001b[0m\u001b[0;36m10\u001b[0m\u001b[0;34m,\u001b[0m\u001b[0;36m11\u001b[0m\u001b[0;34m]\u001b[0m\u001b[0;34m,\u001b[0m\u001b[0;34m[\u001b[0m\u001b[0;36m12\u001b[0m\u001b[0;34m,\u001b[0m\u001b[0;36m13\u001b[0m\u001b[0;34m,\u001b[0m\u001b[0;36m14\u001b[0m\u001b[0;34m]\u001b[0m\u001b[0;34m]\u001b[0m\u001b[0;34m)\u001b[0m\u001b[0;34m\u001b[0m\u001b[0;34m\u001b[0m\u001b[0m\n\u001b[1;32m      3\u001b[0m \u001b[0mb\u001b[0m\u001b[0;34m=\u001b[0m\u001b[0mnp\u001b[0m\u001b[0;34m.\u001b[0m\u001b[0marray\u001b[0m\u001b[0;34m(\u001b[0m\u001b[0;34m[\u001b[0m\u001b[0;36m0\u001b[0m\u001b[0;34m,\u001b[0m\u001b[0;36m2\u001b[0m\u001b[0;34m,\u001b[0m\u001b[0;36m0\u001b[0m\u001b[0;34m,\u001b[0m\u001b[0;36m1\u001b[0m\u001b[0;34m]\u001b[0m\u001b[0;34m)\u001b[0m\u001b[0;34m\u001b[0m\u001b[0;34m\u001b[0m\u001b[0m\n\u001b[0;32m----> 4\u001b[0;31m \u001b[0mprint\u001b[0m\u001b[0;34m(\u001b[0m\u001b[0ma\u001b[0m\u001b[0;34m[\u001b[0m\u001b[0mnp\u001b[0m\u001b[0;34m.\u001b[0m\u001b[0marange\u001b[0m\u001b[0;34m(\u001b[0m\u001b[0;36m4\u001b[0m\u001b[0;34m,\u001b[0m\u001b[0mb\u001b[0m\u001b[0;34m)\u001b[0m\u001b[0;34m]\u001b[0m\u001b[0;34m)\u001b[0m\u001b[0;34m\u001b[0m\u001b[0;34m\u001b[0m\u001b[0m\n\u001b[0m",
            "\u001b[0;31mValueError\u001b[0m: The truth value of an array with more than one element is ambiguous. Use a.any() or a.all()"
          ]
        }
      ]
    },
    {
      "cell_type": "code",
      "source": [
        "a=[1,2,3,4,5,8,9]\n",
        "print(np.argmax(a))\n",
        "print(np.argmin(a))\n",
        "print(np.argsort(a))\n",
        "c=np.append(a,[4,5,6])\n",
        "print(c)\n"
      ],
      "metadata": {
        "colab": {
          "base_uri": "https://localhost:8080/"
        },
        "id": "ZGUM9yD4-jLt",
        "outputId": "850e590f-04f5-4c61-edc4-c390cab46efe"
      },
      "execution_count": null,
      "outputs": [
        {
          "output_type": "stream",
          "name": "stdout",
          "text": [
            "6\n",
            "0\n",
            "[0 1 2 3 4 5 6]\n",
            "[1 2 3 4 5 8 9 4 5 6]\n"
          ]
        }
      ]
    },
    {
      "cell_type": "code",
      "source": [
        "arr = np.array([[1, 2, 3],\n",
        "                [4, 5, 6]])\n",
        "print(\"Array with Rank 2: \\n\", arr)"
      ],
      "metadata": {
        "colab": {
          "base_uri": "https://localhost:8080/"
        },
        "id": "uL7RNcMKAxVn",
        "outputId": "60a446d2-3071-4d6a-b4cd-2f028fdd5b47"
      },
      "execution_count": null,
      "outputs": [
        {
          "output_type": "stream",
          "name": "stdout",
          "text": [
            "Array with Rank 2: \n",
            " [[1 2 3]\n",
            " [4 5 6]]\n"
          ]
        }
      ]
    },
    {
      "cell_type": "code",
      "source": [
        "import numpy as np\n",
        "\n",
        "# Integer datatype\n",
        "# guessed by Numpy\n",
        "x = np.array([1, 2])\n",
        "print(x.dtype)\n",
        "\n",
        "# Float datatype\n",
        "# guessed by Numpy\n",
        "x = np.array([1.0, 2.0])\n",
        "print(x.dtype)\n",
        "\n",
        "# Forced Datatype\n",
        "x = np.array([1, 2], dtype = np.float64)\n",
        "print(x.dtype)"
      ],
      "metadata": {
        "colab": {
          "base_uri": "https://localhost:8080/"
        },
        "id": "1IA6ZfwaBCr0",
        "outputId": "2c11705a-3d32-4ab8-bb92-231277436c6d"
      },
      "execution_count": null,
      "outputs": [
        {
          "output_type": "stream",
          "name": "stdout",
          "text": [
            "int64\n",
            "float64\n",
            "float64\n"
          ]
        }
      ]
    },
    {
      "cell_type": "code",
      "source": [
        "arr1=[4,16,25,100]\n",
        "print(np.sqrt(arr1))"
      ],
      "metadata": {
        "colab": {
          "base_uri": "https://localhost:8080/"
        },
        "id": "y1FuPpLSCApE",
        "outputId": "529aa190-87bf-4dc9-c389-1b17b52e4545"
      },
      "execution_count": null,
      "outputs": [
        {
          "output_type": "stream",
          "name": "stdout",
          "text": [
            "[ 2.  4.  5. 10.]\n"
          ]
        }
      ]
    },
    {
      "cell_type": "code",
      "source": [
        "arr1 = np.array([[4, 7], [2, 6]],\n",
        "                 dtype = np.float64)\n",
        "Trans_arr = arr1.T\n",
        "print(Trans_arr)\n",
        "Sum1 = np.sum(arr1)\n",
        "print(Sum1)\n"
      ],
      "metadata": {
        "colab": {
          "base_uri": "https://localhost:8080/"
        },
        "id": "y3Thbrm-ClcL",
        "outputId": "8bb78e76-74df-46e1-86b1-1c36f322fb01"
      },
      "execution_count": null,
      "outputs": [
        {
          "output_type": "stream",
          "name": "stdout",
          "text": [
            "[[4. 2.]\n",
            " [7. 6.]]\n",
            "19.0\n"
          ]
        }
      ]
    },
    {
      "cell_type": "code",
      "source": [
        "x = np.array([[4, 7], [2, 6],[4,5]])\n",
        "y = np.array([[4, 7], [2, 6]])\n",
        "v= np.array([4, 7])\n",
        "w=np.array([4, 7])\n",
        "print(v.shape)\n",
        "print(x.shape)\n",
        "print()\n",
        "print(x.reshape(2,3))\n",
        "print(x)\n",
        "print(x.reshape(3,2))\n",
        "y=w.reshape(-1,)#squeezing\n",
        "print(y)\n"
      ],
      "metadata": {
        "colab": {
          "base_uri": "https://localhost:8080/"
        },
        "id": "5QN8KLnAC5yz",
        "outputId": "35d0da46-b1ea-4933-b5fa-9372e6aef192"
      },
      "execution_count": null,
      "outputs": [
        {
          "output_type": "stream",
          "name": "stdout",
          "text": [
            "(2,)\n",
            "(3, 2)\n",
            "\n",
            "[[4 7 2]\n",
            " [6 4 5]]\n",
            "[[4 7]\n",
            " [2 6]\n",
            " [4 5]]\n",
            "[[4 7]\n",
            " [2 6]\n",
            " [4 5]]\n",
            "[4 7]\n"
          ]
        }
      ]
    },
    {
      "cell_type": "code",
      "source": [
        "#  broadcasting --- spreading from one place to another\n",
        "a = np.array([5, 7, 3, 1])\n",
        "b = np.array([90, 50, 0, 30])\n",
        "d=2\n",
        "# array are compatible because of same Dimension\n",
        "c = a * b* d\n",
        "print(c)"
      ],
      "metadata": {
        "colab": {
          "base_uri": "https://localhost:8080/"
        },
        "id": "DgCQ-j7nE1En",
        "outputId": "dcbbfc12-911a-49e2-f173-f4a325c54d27"
      },
      "execution_count": null,
      "outputs": [
        {
          "output_type": "stream",
          "name": "stdout",
          "text": [
            "[900 700   0  60]\n"
          ]
        }
      ]
    },
    {
      "cell_type": "code",
      "source": [
        "#broadcasting\n",
        "import numpy as np\n",
        "A = np.array([[11, 22, 33], [10, 20, 30]])\n",
        "print(A)\n",
        "print()\n",
        "b = np.array([1,1,1])\n",
        "print(b)\n",
        "print()\n",
        "C = A + b\n",
        "print(C)"
      ],
      "metadata": {
        "colab": {
          "base_uri": "https://localhost:8080/"
        },
        "id": "mQnLHL75ET3j",
        "outputId": "72b1f25c-08ef-4950-d9bb-8e89ee14dcb7"
      },
      "execution_count": null,
      "outputs": [
        {
          "output_type": "stream",
          "name": "stdout",
          "text": [
            "[[11 22 33]\n",
            " [10 20 30]]\n",
            "\n",
            "[1 1 1]\n",
            "\n",
            "[[12 23 34]\n",
            " [11 21 31]]\n"
          ]
        }
      ]
    },
    {
      "cell_type": "code",
      "source": [
        "import numpy as np\n",
        "\n",
        "v = np.array([1, 2, 3])\n",
        "w = np.array([4, 5])\n",
        "\n",
        "# To compute an outer product we first\n",
        "# reshape v to a column vector of shape 3x1\n",
        "# then broadcast it against w to yield an output\n",
        "# of shape 3x2 which is the outer product of v and w\n",
        "print(np.reshape(v, (3, 1)) * w)\n",
        "\n",
        "x = np.array([[1, 2, 3], [4, 5, 6]])\n",
        "\n",
        "# x has shape 2x3 and v has shape (3,)\n",
        "# so they broadcast to 2x3,\n",
        "print(x + v)\n",
        "\n",
        "# Add a vector to each column of a matrix X has\n",
        "# shape 2x3 and w has shape (2, ) If we transpose X\n",
        "# then it has shape 3x2 and can be broadcast against w\n",
        "# to yield a result of shape 3x2.\n",
        "\n",
        "# Transposing this yields the final result\n",
        "# of shape 2x3 which is the matrix.\n",
        "print((x.T + w).T)\n",
        "\n",
        "# Another solution is to reshape w to be a column\n",
        "# vector of shape 2X1 we can then broadcast it\n",
        "# directly against X to produce the same output.\n",
        "print(x + np.reshape(w, (2, 1)))\n",
        "\n",
        "# Multiply a matrix by a constant, X has shape 2x3.\n",
        "# Numpy treats scalars as arrays of shape();\n",
        "# these can be broadcast together to shape 2x3.\n",
        "print(x * 2)\n"
      ],
      "metadata": {
        "colab": {
          "base_uri": "https://localhost:8080/"
        },
        "id": "8fldwuYlGyiv",
        "outputId": "0c44d75c-a3d1-4c9d-ab6d-930b6c6203a3"
      },
      "execution_count": null,
      "outputs": [
        {
          "output_type": "stream",
          "name": "stdout",
          "text": [
            "[[ 4  5]\n",
            " [ 8 10]\n",
            " [12 15]]\n",
            "[[2 4 6]\n",
            " [5 7 9]]\n",
            "[[ 5  6  7]\n",
            " [ 9 10 11]]\n",
            "[[ 5  6  7]\n",
            " [ 9 10 11]]\n",
            "[[ 2  4  6]\n",
            " [ 8 10 12]]\n"
          ]
        }
      ]
    }
  ]
}